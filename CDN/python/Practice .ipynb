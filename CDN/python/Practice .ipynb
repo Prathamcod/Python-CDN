{
 "cells": [
  {
   "cell_type": "markdown",
   "id": "bb09af33",
   "metadata": {},
   "source": [
    "## Nested if"
   ]
  },
  {
   "cell_type": "code",
   "execution_count": 1,
   "id": "4bac8fff",
   "metadata": {},
   "outputs": [
    {
     "name": "stdout",
     "output_type": "stream",
     "text": [
      "Enter the value:- 12\n",
      "Hello from the 1st if\n"
     ]
    }
   ],
   "source": [
    "User = int(input(\"Enter the value:- \"))\n",
    "n=10\n",
    "if(User>=n):\n",
    "    print(\"Hello from the 1st if\")\n",
    "    if(User<=n):\n",
    "        print(\"Hello From the 2nd if\")\n",
    "        if(User!=n):\n",
    "            print(\"Hello from the 3rd if\")\n",
    "            if(User==n):\n",
    "                print(\"Hello from the 4th if\")\n"
   ]
  },
  {
   "cell_type": "code",
   "execution_count": 12,
   "id": "d3a0162f",
   "metadata": {},
   "outputs": [
    {
     "name": "stdout",
     "output_type": "stream",
     "text": [
      "Enter your username: admin\n",
      "Enter your password: pratham\n",
      "Incorrect password.\n"
     ]
    }
   ],
   "source": [
    "# using of nested if in python project \n",
    "def authenticate_user(username, password):\n",
    "    if username == \"admin\":\n",
    "        if password == \"secret\":\n",
    "            print(\"Welcome, admin!\")\n",
    "        else:\n",
    "            print(\"Incorrect password.\")\n",
    "    else:\n",
    "        print(\"Invalid username.\")\n",
    "\n",
    "username = input(\"Enter your username: \")\n",
    "password = input(\"Enter your password: \")\n",
    "\n",
    "authenticate_user(username, password)"
   ]
  },
  {
   "cell_type": "markdown",
   "id": "52d7edfb",
   "metadata": {},
   "source": [
    "## String practice\n",
    "\n",
    "##### Creating the String "
   ]
  },
  {
   "cell_type": "code",
   "execution_count": 2,
   "id": "c27661c9",
   "metadata": {},
   "outputs": [],
   "source": [
    "myStr = \"String in python\" # Double quotes written the String"
   ]
  },
  {
   "cell_type": "code",
   "execution_count": 3,
   "id": "44ed059b",
   "metadata": {},
   "outputs": [
    {
     "data": {
      "text/plain": [
       "'String in python'"
      ]
     },
     "execution_count": 3,
     "metadata": {},
     "output_type": "execute_result"
    }
   ],
   "source": [
    "myStr"
   ]
  },
  {
   "cell_type": "code",
   "execution_count": 4,
   "id": "d32914c6",
   "metadata": {},
   "outputs": [
    {
     "data": {
      "text/plain": [
       "'String in python'"
      ]
     },
     "execution_count": 4,
     "metadata": {},
     "output_type": "execute_result"
    }
   ],
   "source": [
    "myStr1 = 'String in python' #Single quotes written in string\n",
    "myStr1"
   ]
  },
  {
   "cell_type": "markdown",
   "id": "63fd102f",
   "metadata": {},
   "source": [
    "##### Accessing the String element in Python"
   ]
  },
  {
   "cell_type": "code",
   "execution_count": 10,
   "id": "67fa5ddf",
   "metadata": {},
   "outputs": [
    {
     "name": "stdout",
     "output_type": "stream",
     "text": [
      "Software Enginee\n"
     ]
    }
   ],
   "source": [
    "str1 = \"Software Engineer\"\n",
    "print(str1[0:-1])"
   ]
  },
  {
   "cell_type": "code",
   "execution_count": 23,
   "id": "b31c4cc6",
   "metadata": {},
   "outputs": [
    {
     "data": {
      "text/plain": [
       "'rein rwfS'"
      ]
     },
     "execution_count": 23,
     "metadata": {},
     "output_type": "execute_result"
    }
   ],
   "source": [
    "str1[::-2]"
   ]
  },
  {
   "cell_type": "code",
   "execution_count": 38,
   "id": "91c34462",
   "metadata": {},
   "outputs": [
    {
     "data": {
      "text/plain": [
       "'erawtf'"
      ]
     },
     "execution_count": 38,
     "metadata": {},
     "output_type": "execute_result"
    }
   ],
   "source": [
    "str1[-10:-16:-1]"
   ]
  },
  {
   "cell_type": "code",
   "execution_count": 40,
   "id": "64b90b24",
   "metadata": {},
   "outputs": [
    {
     "data": {
      "text/plain": [
       "'reenignE erawtfoS'"
      ]
     },
     "execution_count": 40,
     "metadata": {},
     "output_type": "execute_result"
    }
   ],
   "source": [
    "str1[::-1]"
   ]
  },
  {
   "cell_type": "code",
   "execution_count": 48,
   "id": "10bbd449",
   "metadata": {},
   "outputs": [
    {
     "data": {
      "text/plain": [
       "['Engineer', 'Software']"
      ]
     },
     "execution_count": 48,
     "metadata": {},
     "output_type": "execute_result"
    }
   ],
   "source": [
    "str1.split()[::-1]"
   ]
  },
  {
   "cell_type": "code",
   "execution_count": 49,
   "id": "f19f41f7",
   "metadata": {},
   "outputs": [],
   "source": [
    "User1 = str1[0:4]"
   ]
  },
  {
   "cell_type": "code",
   "execution_count": 50,
   "id": "4a208138",
   "metadata": {},
   "outputs": [
    {
     "data": {
      "text/plain": [
       "'Soft'"
      ]
     },
     "execution_count": 50,
     "metadata": {},
     "output_type": "execute_result"
    }
   ],
   "source": [
    "User1"
   ]
  },
  {
   "cell_type": "code",
   "execution_count": 55,
   "id": "c7bc2f69",
   "metadata": {},
   "outputs": [],
   "source": [
    "User2= str1[9:13]"
   ]
  },
  {
   "cell_type": "code",
   "execution_count": 56,
   "id": "6d1b63e6",
   "metadata": {},
   "outputs": [
    {
     "data": {
      "text/plain": [
       "'Engi'"
      ]
     },
     "execution_count": 56,
     "metadata": {},
     "output_type": "execute_result"
    }
   ],
   "source": [
    "User2"
   ]
  },
  {
   "cell_type": "code",
   "execution_count": 68,
   "id": "88cfa4a2",
   "metadata": {},
   "outputs": [
    {
     "data": {
      "text/plain": [
       "[]"
      ]
     },
     "execution_count": 68,
     "metadata": {},
     "output_type": "execute_result"
    }
   ],
   "source": [
    "str1.split()[-1:-4]"
   ]
  },
  {
   "cell_type": "code",
   "execution_count": 69,
   "id": "d13c29e4",
   "metadata": {},
   "outputs": [],
   "source": [
    "Store = str1.split()[::-1]"
   ]
  },
  {
   "cell_type": "code",
   "execution_count": 70,
   "id": "51602a16",
   "metadata": {},
   "outputs": [
    {
     "data": {
      "text/plain": [
       "['Engineer', 'Software']"
      ]
     },
     "execution_count": 70,
     "metadata": {},
     "output_type": "execute_result"
    }
   ],
   "source": [
    "Store"
   ]
  },
  {
   "cell_type": "code",
   "execution_count": 74,
   "id": "11729b9c",
   "metadata": {},
   "outputs": [
    {
     "data": {
      "text/plain": [
       "['Engineer']"
      ]
     },
     "execution_count": 74,
     "metadata": {},
     "output_type": "execute_result"
    }
   ],
   "source": [
    "Store[0:1]"
   ]
  },
  {
   "cell_type": "code",
   "execution_count": null,
   "id": "1b6bfffb",
   "metadata": {},
   "outputs": [],
   "source": []
  }
 ],
 "metadata": {
  "kernelspec": {
   "display_name": "Python 3 (ipykernel)",
   "language": "python",
   "name": "python3"
  },
  "language_info": {
   "codemirror_mode": {
    "name": "ipython",
    "version": 3
   },
   "file_extension": ".py",
   "mimetype": "text/x-python",
   "name": "python",
   "nbconvert_exporter": "python",
   "pygments_lexer": "ipython3",
   "version": "3.9.12"
  }
 },
 "nbformat": 4,
 "nbformat_minor": 5
}
